{
 "cells": [
  {
   "cell_type": "code",
   "execution_count": 1,
   "id": "0459972b",
   "metadata": {},
   "outputs": [],
   "source": [
    "import pandas as pd\n",
    "\n",
    "import time\n",
    "from datetime import datetime\n",
    "\n",
    "import warnings\n",
    "warnings.filterwarnings('ignore')"
   ]
  },
  {
   "cell_type": "code",
   "execution_count": 2,
   "id": "2bbb08e4",
   "metadata": {},
   "outputs": [],
   "source": [
    "def sleep():\n",
    "    time.sleep(2.5)"
   ]
  },
  {
   "cell_type": "code",
   "execution_count": null,
   "id": "a840f329",
   "metadata": {},
   "outputs": [
    {
     "name": "stdout",
     "output_type": "stream",
     "text": [
      "1947 is done\n",
      "1948 is done\n",
      "1949 is done\n",
      "1950 is done\n",
      "1951 is done\n",
      "1952 is done\n"
     ]
    }
   ],
   "source": [
    "df = pd.DataFrame()\n",
    "\n",
    "for season in range(1947, 2025):\n",
    "    time.sleep(2.5)\n",
    "    if season <= 1949:\n",
    "        months = ['october', 'november', 'december', 'january', 'february', 'march', 'april', 'may', 'june', 'july']\n",
    "        for month in months:\n",
    "            sleep()\n",
    "            try:\n",
    "                url = f\"https://www.basketball-reference.com/leagues/BAA_{season}_games-{month}.html\"\n",
    "                data = pd.read_html(url)[0]\n",
    "                df = pd.concat([df, data], axis = 0)\n",
    "            except:\n",
    "                pass\n",
    "    elif season == 2020:\n",
    "        months = ['october-2019', 'november', 'december', 'january', 'february', 'march', 'july', 'august', 'september', 'october-2020']\n",
    "        for month in months:\n",
    "            sleep()\n",
    "            try:\n",
    "                url = f\"https://www.basketball-reference.com/leagues/NBA_{season}_games-{month}.html\"\n",
    "                data = pd.read_html(url)[0]\n",
    "                df = pd.concat([df, data], axis = 0)\n",
    "            except:\n",
    "                pass\n",
    "    else:\n",
    "        months = ['october', 'november', 'december', 'january', 'february', 'march', 'april', 'may', 'june', 'july']\n",
    "        for month in months:\n",
    "            sleep()\n",
    "            try:\n",
    "                url = f\"https://www.basketball-reference.com/leagues/NBA_{season}_games-{month}.html\"\n",
    "                data = pd.read_html(url)[0]\n",
    "                df = pd.concat([df, data], axis = 0)\n",
    "            except:\n",
    "                pass\n",
    "    print(f\"{season} is done\")"
   ]
  },
  {
   "cell_type": "code",
   "execution_count": null,
   "id": "ef41a09f",
   "metadata": {},
   "outputs": [],
   "source": [
    "df.to_csv('allnbagames.csv')"
   ]
  },
  {
   "cell_type": "code",
   "execution_count": null,
   "id": "d6f0b5a5",
   "metadata": {},
   "outputs": [],
   "source": []
  }
 ],
 "metadata": {
  "kernelspec": {
   "display_name": "Python 3 (ipykernel)",
   "language": "python",
   "name": "python3"
  },
  "language_info": {
   "codemirror_mode": {
    "name": "ipython",
    "version": 3
   },
   "file_extension": ".py",
   "mimetype": "text/x-python",
   "name": "python",
   "nbconvert_exporter": "python",
   "pygments_lexer": "ipython3",
   "version": "3.9.6"
  }
 },
 "nbformat": 4,
 "nbformat_minor": 5
}
